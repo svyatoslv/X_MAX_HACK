{
 "cells": [
  {
   "cell_type": "markdown",
   "id": "a7093547-08f9-40b5-9433-e79aa4bc2d5c",
   "metadata": {
    "jp-MarkdownHeadingCollapsed": true
   },
   "source": [
    "# импорты и загрузки"
   ]
  },
  {
   "cell_type": "code",
   "execution_count": 2,
   "id": "5a3bf1c1-9a13-447f-8388-d723d54fe6fe",
   "metadata": {},
   "outputs": [],
   "source": [
    "import pandas as pd\n",
    "import numpy as np"
   ]
  },
  {
   "cell_type": "code",
   "execution_count": 318,
   "id": "cc6d586d-393c-4d5b-beba-b9807cc70429",
   "metadata": {},
   "outputs": [
    {
     "data": {
      "text/plain": [
       "['test data', 'train', 'TV Viewing']"
      ]
     },
     "execution_count": 318,
     "metadata": {},
     "output_type": "execute_result"
    }
   ],
   "source": [
    "xlsx = pd.ExcelFile(\"data.xlsx\")\n",
    "xlsx.sheet_names"
   ]
  },
  {
   "cell_type": "code",
   "execution_count": 326,
   "id": "3541ea01-ec00-47bd-b50e-0015c518b749",
   "metadata": {},
   "outputs": [],
   "source": [
    "df = xlsx.parse('train')"
   ]
  },
  {
   "cell_type": "markdown",
   "id": "42e8d3c8-82a8-467a-a7da-98570c4c5f8c",
   "metadata": {
    "jp-MarkdownHeadingCollapsed": true
   },
   "source": [
    "# preprocessing"
   ]
  },
  {
   "cell_type": "code",
   "execution_count": 231,
   "id": "efc534c4-48a7-4638-85b8-7b852fa1cecc",
   "metadata": {},
   "outputs": [],
   "source": [
    "df['Break flight start'] = pd.to_datetime(df['Break flight start'], format='%H:%M:%S')\n",
    "df['Break flight end'] = pd.to_datetime(df['Break flight end'], format='%H:%M:%S')\n",
    "df['Programme flight start'] = pd.to_datetime(df['Programme flight start'], format='%H:%M:%S')\n",
    "df['Programme flight end'] = pd.to_datetime(df['Programme flight end'], format='%H:%M:%S')"
   ]
  },
  {
   "cell_type": "code",
   "execution_count": null,
   "id": "6f9980fc-8f0d-4b3f-8646-ccba191be5f1",
   "metadata": {},
   "outputs": [],
   "source": []
  },
  {
   "cell_type": "code",
   "execution_count": 232,
   "id": "f322dc8c-6624-47b4-97c3-8cf7e349c4f8",
   "metadata": {},
   "outputs": [],
   "source": [
    "df['day_of_year'] = df['Date'].dt.dayofyear\n",
    "df['день недели'] = df['Date'].dt.day_name()\n",
    "df['тип дня'] = df['Date'].dt.dayofweek.apply(lambda x: 'weekday' if x < 5 else 'weekend')"
   ]
  },
  {
   "cell_type": "code",
   "execution_count": null,
   "id": "635f6c0f-d058-4dbf-8379-39b55f7a25ce",
   "metadata": {},
   "outputs": [],
   "source": []
  },
  {
   "cell_type": "code",
   "execution_count": 233,
   "id": "819fd4f1-7f03-4e7d-a2a5-e03c0fe8df9d",
   "metadata": {
    "scrolled": true
   },
   "outputs": [],
   "source": [
    "df['длительность рекламы'] = (pd.to_datetime(df['Break flight end']) - pd.to_datetime(df['Break flight start'])).dt.total_seconds() / 60\n",
    "# Исправляем длительность рекламы для случаев, когда конец рекламы на следующий день\n",
    "\n",
    "for i in range(len(df)):\n",
    "    if pd.to_datetime(df['Break flight end'][i]) < pd.to_datetime(df['Break flight start'][i]):\n",
    "        df.loc[i, 'длительность рекламы'] = ((pd.to_datetime(df['Break flight end'][i]) + pd.Timedelta(days=1)) - pd.to_datetime(df['Break flight start'][i])).total_seconds() / 60\n"
   ]
  },
  {
   "cell_type": "code",
   "execution_count": 234,
   "id": "3dbc047f-a0d4-41d6-9534-0d6b1e12109a",
   "metadata": {},
   "outputs": [],
   "source": [
    "df['длительность программы'] = (pd.to_datetime(df['Programme flight end']) - pd.to_datetime(df['Programme flight start'])).dt.total_seconds() / 60\n",
    "\n",
    "# Исправляем длительность рекламы для случаев, когда конец рекламы на следующий день\n",
    "for i in range(len(df)):\n",
    "    if pd.to_datetime(df['Programme flight end'][i]) < pd.to_datetime(df['Programme flight start'][i]):\n",
    "        df.loc[i, 'длительность программы'] = ((pd.to_datetime(df['Programme flight end'][i]) + pd.Timedelta(days=1)) - pd.to_datetime(df['Programme flight start'][i])).total_seconds() / 60"
   ]
  },
  {
   "cell_type": "code",
   "execution_count": 235,
   "id": "f1319930-7734-4a09-8efc-9a0d391cff00",
   "metadata": {},
   "outputs": [],
   "source": [
    "df['начало рекламы'] = (pd.to_datetime(df['Break flight end']) - pd.to_datetime(df['Programme flight start'])).dt.total_seconds() / 60\n",
    "\n",
    "# Исправляем длительность рекламы для случаев, когда конец рекламы на следующий день\n",
    "for i in range(len(df)):\n",
    "    if pd.to_datetime(df['Break flight end'][i]) < pd.to_datetime(df['Programme flight start'][i]):\n",
    "        df.loc[i, 'начало рекламы'] = ((pd.to_datetime(df['Break flight end'][i]) + pd.Timedelta(days=1)) - pd.to_datetime(df['Programme flight start'][i])).total_seconds() / 60"
   ]
  },
  {
   "cell_type": "code",
   "execution_count": 236,
   "id": "75150aec-4652-413c-a478-d64ec6c2d5c8",
   "metadata": {},
   "outputs": [],
   "source": [
    "df.loc[(df['Programme flight start'] < df['Programme flight end']) &\n",
    "       (df['Break flight start'] < df['Programme flight start']), 'начало рекламы'] = -1\n",
    "df.loc[(df['Programme flight start'] < df['Programme flight end']) &\n",
    "       (df['Break flight start'] < df['Programme flight start']), 'начало рекламы'] = -1"
   ]
  },
  {
   "cell_type": "code",
   "execution_count": 237,
   "id": "909e4c86-b918-4967-9583-bb58afad06e2",
   "metadata": {},
   "outputs": [],
   "source": [
    "df['длительность рекламы'] = df['длительность рекламы'].round(1)\n",
    "df['длительность программы'] = df['длительность программы'].round(1)\n",
    "df['начало рекламы'] = df['начало рекламы'].round(1)"
   ]
  },
  {
   "cell_type": "code",
   "execution_count": null,
   "id": "b7164ef7-9d1c-4534-860a-f65dc907cff6",
   "metadata": {},
   "outputs": [],
   "source": []
  },
  {
   "cell_type": "code",
   "execution_count": 238,
   "id": "b6732df2-19eb-444f-b567-eeac247a67b4",
   "metadata": {},
   "outputs": [],
   "source": [
    "df['между программами'] = np.zeros(len(df))\n",
    "\n",
    "df.loc[(df['Programme flight start'] < df['Programme flight end']) &\n",
    "       (df['Break flight start'] < df['Programme flight start']), 'между программами'] = 1\n",
    "\n",
    "df.loc[(df['Programme flight start'] < df['Programme flight end']) &\n",
    "       (df['Break flight start'] < df['Programme flight start']), 'между программами'] = 1"
   ]
  },
  {
   "cell_type": "code",
   "execution_count": null,
   "id": "e7a59874-b38b-465b-af22-aa1ecb1809af",
   "metadata": {},
   "outputs": [],
   "source": []
  },
  {
   "cell_type": "code",
   "execution_count": 239,
   "id": "d08ea508-bada-431d-810b-8bedd39d3911",
   "metadata": {},
   "outputs": [],
   "source": [
    "bins = np.arange(7)\n",
    "\n",
    "df['начало прогрммы бин'] = pd.cut(pd.to_datetime(df['Programme flight start'], format='%H:%M:%S'), \n",
    "                                   bins=[pd.to_datetime('00:00', format='%H:%M'), \n",
    "                                         pd.to_datetime('07:00', format='%H:%M'), \n",
    "                                         pd.to_datetime('10:00', format='%H:%M'),\n",
    "                                         pd.to_datetime('12:00', format='%H:%M'),\n",
    "                                         pd.to_datetime('15:00', format='%H:%M'),\n",
    "                                         pd.to_datetime('18:00', format='%H:%M'),\n",
    "                                         pd.to_datetime('22:00', format='%H:%M'),\n",
    "                                         pd.to_datetime('23:59', format='%H:%M')],\n",
    "                                   labels=bins)"
   ]
  },
  {
   "cell_type": "code",
   "execution_count": null,
   "id": "4fe46456-70f9-46d5-8b1f-b43978f5222f",
   "metadata": {},
   "outputs": [],
   "source": []
  },
  {
   "cell_type": "code",
   "execution_count": 240,
   "id": "0626ae37-c48c-414c-9f0e-608ad53e3a27",
   "metadata": {},
   "outputs": [],
   "source": [
    "def get_season(month):\n",
    "    if month in [3, 4, 5]:\n",
    "        return 'spring'\n",
    "    elif month in [6, 7, 8]:\n",
    "        return 'summer'\n",
    "    elif month in [9, 10, 11]:\n",
    "        return 'autumn'\n",
    "    else:\n",
    "        return 'winter'\n",
    "\n",
    "df['season'] = df['Date'].dt.month.apply(get_season)\n",
    "df['month'] = df['Date'].dt.strftime('%B')"
   ]
  },
  {
   "cell_type": "code",
   "execution_count": null,
   "id": "21bfc96e-1aa6-4c02-b019-a0e920981634",
   "metadata": {},
   "outputs": [],
   "source": []
  },
  {
   "cell_type": "code",
   "execution_count": 241,
   "id": "6af0fd83-e98a-48a8-b175-45274b17c6aa",
   "metadata": {},
   "outputs": [],
   "source": [
    "Label_encoder_cols = ['Break content', 'Break distribution', 'Programme category',\n",
    "                      'Programme genre', 'Programme', 'день недели', 'тип дня',\n",
    "                      'month', 'season']\n",
    "one_hot_cols = ['Programme']\n",
    "del_cols = ['Date', 'Break flight ID', 'Break flight start', 'Break flight end',\n",
    "            'Programme flight start', 'Programme flight end']\n",
    "target_cols = ['TVR Index']"
   ]
  },
  {
   "cell_type": "code",
   "execution_count": 242,
   "id": "31f92d5c-1474-4c4f-a63c-5abc6aab7114",
   "metadata": {},
   "outputs": [],
   "source": [
    "df['emb'] = df['Break content']\n",
    "emb_cols = ['Break distribution', 'Programme', 'день недели', 'тип дня', 'season', 'month']\n",
    "for col in emb_cols:\n",
    "    df['emb'] = df['emb'] + ', ' + df[col]"
   ]
  },
  {
   "cell_type": "code",
   "execution_count": 243,
   "id": "844a550f-1173-4870-888a-057205dbdb4f",
   "metadata": {},
   "outputs": [],
   "source": [
    "from sklearn.preprocessing import LabelEncoder\n",
    "\n",
    "for col in Label_encoder_cols:\n",
    "    df[col] = LabelEncoder().fit_transform(df[col])"
   ]
  },
  {
   "cell_type": "code",
   "execution_count": 355,
   "id": "50cf6b4f-a647-4137-80c8-74d19b4af1d2",
   "metadata": {},
   "outputs": [],
   "source": [
    "df['TVR Index'] = df['TVR Index'].round(3)\n",
    "df = df[df['TVR Index'] < 2]\n",
    "df = df[df['TVR Index'] > 0.1]"
   ]
  },
  {
   "cell_type": "code",
   "execution_count": 245,
   "id": "78c5c06f-49d9-4d34-95a3-f06913e5ec5f",
   "metadata": {},
   "outputs": [],
   "source": [
    "df = df.drop(columns = del_cols)"
   ]
  },
  {
   "cell_type": "code",
   "execution_count": 356,
   "id": "fa1ffc44-bbe6-44f5-be8d-a825cff29ca6",
   "metadata": {},
   "outputs": [
    {
     "data": {
      "text/html": [
       "<div>\n",
       "<style scoped>\n",
       "    .dataframe tbody tr th:only-of-type {\n",
       "        vertical-align: middle;\n",
       "    }\n",
       "\n",
       "    .dataframe tbody tr th {\n",
       "        vertical-align: top;\n",
       "    }\n",
       "\n",
       "    .dataframe thead th {\n",
       "        text-align: right;\n",
       "    }\n",
       "</style>\n",
       "<table border=\"1\" class=\"dataframe\">\n",
       "  <thead>\n",
       "    <tr style=\"text-align: right;\">\n",
       "      <th></th>\n",
       "      <th>TVR Index</th>\n",
       "      <th>Date</th>\n",
       "      <th>Break flight ID</th>\n",
       "      <th>Break flight start</th>\n",
       "      <th>Break flight end</th>\n",
       "      <th>Break content</th>\n",
       "      <th>Break distribution</th>\n",
       "      <th>Programme</th>\n",
       "      <th>Programme flight start</th>\n",
       "      <th>Programme flight end</th>\n",
       "      <th>Programme category</th>\n",
       "      <th>Programme genre</th>\n",
       "    </tr>\n",
       "  </thead>\n",
       "  <tbody>\n",
       "    <tr>\n",
       "      <th>0</th>\n",
       "      <td>0.615</td>\n",
       "      <td>2023-01-02</td>\n",
       "      <td>4870830561</td>\n",
       "      <td>08:17:33</td>\n",
       "      <td>08:21:40</td>\n",
       "      <td>Commercial</td>\n",
       "      <td>Network</td>\n",
       "      <td>Telekanal \"Dobroe utro\"</td>\n",
       "      <td>08:00:13</td>\n",
       "      <td>10:00:14</td>\n",
       "      <td>Morning airplay</td>\n",
       "      <td>Entertainment programs</td>\n",
       "    </tr>\n",
       "    <tr>\n",
       "      <th>1</th>\n",
       "      <td>0.870</td>\n",
       "      <td>2023-01-02</td>\n",
       "      <td>4870830614</td>\n",
       "      <td>08:34:45</td>\n",
       "      <td>08:38:52</td>\n",
       "      <td>Commercial</td>\n",
       "      <td>Network</td>\n",
       "      <td>Telekanal \"Dobroe utro\"</td>\n",
       "      <td>08:00:13</td>\n",
       "      <td>10:00:14</td>\n",
       "      <td>Morning airplay</td>\n",
       "      <td>Entertainment programs</td>\n",
       "    </tr>\n",
       "    <tr>\n",
       "      <th>2</th>\n",
       "      <td>0.990</td>\n",
       "      <td>2023-01-02</td>\n",
       "      <td>4870830629</td>\n",
       "      <td>08:52:19</td>\n",
       "      <td>08:56:23</td>\n",
       "      <td>Commercial</td>\n",
       "      <td>Network</td>\n",
       "      <td>Telekanal \"Dobroe utro\"</td>\n",
       "      <td>08:00:13</td>\n",
       "      <td>10:00:14</td>\n",
       "      <td>Morning airplay</td>\n",
       "      <td>Entertainment programs</td>\n",
       "    </tr>\n",
       "    <tr>\n",
       "      <th>3</th>\n",
       "      <td>0.885</td>\n",
       "      <td>2023-01-02</td>\n",
       "      <td>4870830684</td>\n",
       "      <td>08:56:31</td>\n",
       "      <td>08:57:28</td>\n",
       "      <td>Announcement</td>\n",
       "      <td>Network</td>\n",
       "      <td>Telekanal \"Dobroe utro\"</td>\n",
       "      <td>08:00:13</td>\n",
       "      <td>10:00:14</td>\n",
       "      <td>Morning airplay</td>\n",
       "      <td>Entertainment programs</td>\n",
       "    </tr>\n",
       "    <tr>\n",
       "      <th>4</th>\n",
       "      <td>0.840</td>\n",
       "      <td>2023-01-02</td>\n",
       "      <td>4870830685</td>\n",
       "      <td>09:12:04</td>\n",
       "      <td>09:16:13</td>\n",
       "      <td>Commercial</td>\n",
       "      <td>Network</td>\n",
       "      <td>Telekanal \"Dobroe utro\"</td>\n",
       "      <td>08:00:13</td>\n",
       "      <td>10:00:14</td>\n",
       "      <td>Morning airplay</td>\n",
       "      <td>Entertainment programs</td>\n",
       "    </tr>\n",
       "  </tbody>\n",
       "</table>\n",
       "</div>"
      ],
      "text/plain": [
       "   TVR Index       Date  Break flight ID Break flight start Break flight end  \\\n",
       "0      0.615 2023-01-02       4870830561           08:17:33         08:21:40   \n",
       "1      0.870 2023-01-02       4870830614           08:34:45         08:38:52   \n",
       "2      0.990 2023-01-02       4870830629           08:52:19         08:56:23   \n",
       "3      0.885 2023-01-02       4870830684           08:56:31         08:57:28   \n",
       "4      0.840 2023-01-02       4870830685           09:12:04         09:16:13   \n",
       "\n",
       "  Break content Break distribution                Programme  \\\n",
       "0    Commercial            Network  Telekanal \"Dobroe utro\"   \n",
       "1    Commercial            Network  Telekanal \"Dobroe utro\"   \n",
       "2    Commercial            Network  Telekanal \"Dobroe utro\"   \n",
       "3  Announcement            Network  Telekanal \"Dobroe utro\"   \n",
       "4    Commercial            Network  Telekanal \"Dobroe utro\"   \n",
       "\n",
       "  Programme flight start Programme flight end Programme category  \\\n",
       "0               08:00:13             10:00:14    Morning airplay   \n",
       "1               08:00:13             10:00:14    Morning airplay   \n",
       "2               08:00:13             10:00:14    Morning airplay   \n",
       "3               08:00:13             10:00:14    Morning airplay   \n",
       "4               08:00:13             10:00:14    Morning airplay   \n",
       "\n",
       "          Programme genre  \n",
       "0  Entertainment programs  \n",
       "1  Entertainment programs  \n",
       "2  Entertainment programs  \n",
       "3  Entertainment programs  \n",
       "4  Entertainment programs  "
      ]
     },
     "execution_count": 356,
     "metadata": {},
     "output_type": "execute_result"
    }
   ],
   "source": [
    "df.head(5)"
   ]
  },
  {
   "cell_type": "code",
   "execution_count": 247,
   "id": "534cbb08-0ae8-417f-8776-7dc5c7b1f540",
   "metadata": {},
   "outputs": [],
   "source": [
    "df = df.fillna(0)"
   ]
  },
  {
   "cell_type": "markdown",
   "id": "80db27a5-9ace-431a-a2f3-d9b783e0bf4c",
   "metadata": {},
   "source": [
    "## сохранение/загрузка готового датасета"
   ]
  },
  {
   "cell_type": "code",
   "execution_count": 225,
   "id": "9a3f9c5c-35d2-4247-92fe-0e6369749718",
   "metadata": {},
   "outputs": [],
   "source": [
    "df.sort_index().to_csv(\"new_data_5.csv\")"
   ]
  },
  {
   "cell_type": "code",
   "execution_count": 321,
   "id": "8e4ab64d-759e-4091-a1df-093be9a3c3be",
   "metadata": {},
   "outputs": [],
   "source": [
    "df = pd.read_csv('new_data_5.csv')\n",
    "df = df.drop(columns='Unnamed: 0')"
   ]
  },
  {
   "cell_type": "markdown",
   "id": "50260b37-7b81-4572-a1db-2554d63532fa",
   "metadata": {
    "jp-MarkdownHeadingCollapsed": true
   },
   "source": [
    "# модели"
   ]
  },
  {
   "cell_type": "code",
   "execution_count": 229,
   "id": "cce75911-9035-49de-86fe-4f5cb677238e",
   "metadata": {},
   "outputs": [
    {
     "data": {
      "text/html": [
       "<div>\n",
       "<style scoped>\n",
       "    .dataframe tbody tr th:only-of-type {\n",
       "        vertical-align: middle;\n",
       "    }\n",
       "\n",
       "    .dataframe tbody tr th {\n",
       "        vertical-align: top;\n",
       "    }\n",
       "\n",
       "    .dataframe thead th {\n",
       "        text-align: right;\n",
       "    }\n",
       "</style>\n",
       "<table border=\"1\" class=\"dataframe\">\n",
       "  <thead>\n",
       "    <tr style=\"text-align: right;\">\n",
       "      <th></th>\n",
       "      <th>TVR Index</th>\n",
       "      <th>Break content</th>\n",
       "      <th>Break distribution</th>\n",
       "      <th>Programme</th>\n",
       "      <th>Programme category</th>\n",
       "      <th>Programme genre</th>\n",
       "      <th>day_of_year</th>\n",
       "      <th>день недели</th>\n",
       "      <th>тип дня</th>\n",
       "      <th>длительность рекламы</th>\n",
       "      <th>длительность программы</th>\n",
       "      <th>начало рекламы</th>\n",
       "      <th>между программами</th>\n",
       "      <th>начало прогрммы бин</th>\n",
       "      <th>month</th>\n",
       "      <th>season</th>\n",
       "    </tr>\n",
       "  </thead>\n",
       "  <tbody>\n",
       "    <tr>\n",
       "      <th>0</th>\n",
       "      <td>0.615</td>\n",
       "      <td>1</td>\n",
       "      <td>0</td>\n",
       "      <td>17</td>\n",
       "      <td>7</td>\n",
       "      <td>1</td>\n",
       "      <td>2</td>\n",
       "      <td>1</td>\n",
       "      <td>0</td>\n",
       "      <td>4.1</td>\n",
       "      <td>120.0</td>\n",
       "      <td>21.4</td>\n",
       "      <td>0.0</td>\n",
       "      <td>1.0</td>\n",
       "      <td>January</td>\n",
       "      <td>зима</td>\n",
       "    </tr>\n",
       "    <tr>\n",
       "      <th>1</th>\n",
       "      <td>0.870</td>\n",
       "      <td>1</td>\n",
       "      <td>0</td>\n",
       "      <td>17</td>\n",
       "      <td>7</td>\n",
       "      <td>1</td>\n",
       "      <td>2</td>\n",
       "      <td>1</td>\n",
       "      <td>0</td>\n",
       "      <td>4.1</td>\n",
       "      <td>120.0</td>\n",
       "      <td>38.6</td>\n",
       "      <td>0.0</td>\n",
       "      <td>1.0</td>\n",
       "      <td>January</td>\n",
       "      <td>зима</td>\n",
       "    </tr>\n",
       "    <tr>\n",
       "      <th>2</th>\n",
       "      <td>0.990</td>\n",
       "      <td>1</td>\n",
       "      <td>0</td>\n",
       "      <td>17</td>\n",
       "      <td>7</td>\n",
       "      <td>1</td>\n",
       "      <td>2</td>\n",
       "      <td>1</td>\n",
       "      <td>0</td>\n",
       "      <td>4.1</td>\n",
       "      <td>120.0</td>\n",
       "      <td>56.2</td>\n",
       "      <td>0.0</td>\n",
       "      <td>1.0</td>\n",
       "      <td>January</td>\n",
       "      <td>зима</td>\n",
       "    </tr>\n",
       "    <tr>\n",
       "      <th>3</th>\n",
       "      <td>0.885</td>\n",
       "      <td>0</td>\n",
       "      <td>0</td>\n",
       "      <td>17</td>\n",
       "      <td>7</td>\n",
       "      <td>1</td>\n",
       "      <td>2</td>\n",
       "      <td>1</td>\n",
       "      <td>0</td>\n",
       "      <td>1.0</td>\n",
       "      <td>120.0</td>\n",
       "      <td>57.2</td>\n",
       "      <td>0.0</td>\n",
       "      <td>1.0</td>\n",
       "      <td>January</td>\n",
       "      <td>зима</td>\n",
       "    </tr>\n",
       "    <tr>\n",
       "      <th>4</th>\n",
       "      <td>0.840</td>\n",
       "      <td>1</td>\n",
       "      <td>0</td>\n",
       "      <td>17</td>\n",
       "      <td>7</td>\n",
       "      <td>1</td>\n",
       "      <td>2</td>\n",
       "      <td>1</td>\n",
       "      <td>0</td>\n",
       "      <td>4.2</td>\n",
       "      <td>120.0</td>\n",
       "      <td>76.0</td>\n",
       "      <td>0.0</td>\n",
       "      <td>1.0</td>\n",
       "      <td>January</td>\n",
       "      <td>зима</td>\n",
       "    </tr>\n",
       "    <tr>\n",
       "      <th>...</th>\n",
       "      <td>...</td>\n",
       "      <td>...</td>\n",
       "      <td>...</td>\n",
       "      <td>...</td>\n",
       "      <td>...</td>\n",
       "      <td>...</td>\n",
       "      <td>...</td>\n",
       "      <td>...</td>\n",
       "      <td>...</td>\n",
       "      <td>...</td>\n",
       "      <td>...</td>\n",
       "      <td>...</td>\n",
       "      <td>...</td>\n",
       "      <td>...</td>\n",
       "      <td>...</td>\n",
       "      <td>...</td>\n",
       "    </tr>\n",
       "    <tr>\n",
       "      <th>27805</th>\n",
       "      <td>0.150</td>\n",
       "      <td>1</td>\n",
       "      <td>0</td>\n",
       "      <td>11</td>\n",
       "      <td>2</td>\n",
       "      <td>1</td>\n",
       "      <td>304</td>\n",
       "      <td>5</td>\n",
       "      <td>0</td>\n",
       "      <td>0.5</td>\n",
       "      <td>52.0</td>\n",
       "      <td>17.7</td>\n",
       "      <td>0.0</td>\n",
       "      <td>0.0</td>\n",
       "      <td>October</td>\n",
       "      <td>осень</td>\n",
       "    </tr>\n",
       "    <tr>\n",
       "      <th>27806</th>\n",
       "      <td>0.165</td>\n",
       "      <td>0</td>\n",
       "      <td>0</td>\n",
       "      <td>11</td>\n",
       "      <td>2</td>\n",
       "      <td>1</td>\n",
       "      <td>304</td>\n",
       "      <td>5</td>\n",
       "      <td>0</td>\n",
       "      <td>0.9</td>\n",
       "      <td>52.0</td>\n",
       "      <td>32.6</td>\n",
       "      <td>0.0</td>\n",
       "      <td>0.0</td>\n",
       "      <td>October</td>\n",
       "      <td>осень</td>\n",
       "    </tr>\n",
       "    <tr>\n",
       "      <th>27807</th>\n",
       "      <td>0.240</td>\n",
       "      <td>1</td>\n",
       "      <td>0</td>\n",
       "      <td>11</td>\n",
       "      <td>2</td>\n",
       "      <td>1</td>\n",
       "      <td>304</td>\n",
       "      <td>5</td>\n",
       "      <td>0</td>\n",
       "      <td>4.1</td>\n",
       "      <td>52.0</td>\n",
       "      <td>36.7</td>\n",
       "      <td>0.0</td>\n",
       "      <td>0.0</td>\n",
       "      <td>October</td>\n",
       "      <td>осень</td>\n",
       "    </tr>\n",
       "    <tr>\n",
       "      <th>27808</th>\n",
       "      <td>0.210</td>\n",
       "      <td>1</td>\n",
       "      <td>0</td>\n",
       "      <td>11</td>\n",
       "      <td>2</td>\n",
       "      <td>1</td>\n",
       "      <td>304</td>\n",
       "      <td>5</td>\n",
       "      <td>0</td>\n",
       "      <td>4.1</td>\n",
       "      <td>52.0</td>\n",
       "      <td>52.0</td>\n",
       "      <td>0.0</td>\n",
       "      <td>0.0</td>\n",
       "      <td>October</td>\n",
       "      <td>осень</td>\n",
       "    </tr>\n",
       "    <tr>\n",
       "      <th>27809</th>\n",
       "      <td>0.105</td>\n",
       "      <td>1</td>\n",
       "      <td>0</td>\n",
       "      <td>11</td>\n",
       "      <td>2</td>\n",
       "      <td>1</td>\n",
       "      <td>304</td>\n",
       "      <td>5</td>\n",
       "      <td>0</td>\n",
       "      <td>4.1</td>\n",
       "      <td>43.9</td>\n",
       "      <td>16.2</td>\n",
       "      <td>0.0</td>\n",
       "      <td>0.0</td>\n",
       "      <td>October</td>\n",
       "      <td>осень</td>\n",
       "    </tr>\n",
       "  </tbody>\n",
       "</table>\n",
       "<p>27810 rows × 16 columns</p>\n",
       "</div>"
      ],
      "text/plain": [
       "       TVR Index  Break content  Break distribution  Programme  \\\n",
       "0          0.615              1                   0         17   \n",
       "1          0.870              1                   0         17   \n",
       "2          0.990              1                   0         17   \n",
       "3          0.885              0                   0         17   \n",
       "4          0.840              1                   0         17   \n",
       "...          ...            ...                 ...        ...   \n",
       "27805      0.150              1                   0         11   \n",
       "27806      0.165              0                   0         11   \n",
       "27807      0.240              1                   0         11   \n",
       "27808      0.210              1                   0         11   \n",
       "27809      0.105              1                   0         11   \n",
       "\n",
       "       Programme category  Programme genre  day_of_year  день недели  тип дня  \\\n",
       "0                       7                1            2            1        0   \n",
       "1                       7                1            2            1        0   \n",
       "2                       7                1            2            1        0   \n",
       "3                       7                1            2            1        0   \n",
       "4                       7                1            2            1        0   \n",
       "...                   ...              ...          ...          ...      ...   \n",
       "27805                   2                1          304            5        0   \n",
       "27806                   2                1          304            5        0   \n",
       "27807                   2                1          304            5        0   \n",
       "27808                   2                1          304            5        0   \n",
       "27809                   2                1          304            5        0   \n",
       "\n",
       "       длительность рекламы  длительность программы  начало рекламы  \\\n",
       "0                       4.1                   120.0            21.4   \n",
       "1                       4.1                   120.0            38.6   \n",
       "2                       4.1                   120.0            56.2   \n",
       "3                       1.0                   120.0            57.2   \n",
       "4                       4.2                   120.0            76.0   \n",
       "...                     ...                     ...             ...   \n",
       "27805                   0.5                    52.0            17.7   \n",
       "27806                   0.9                    52.0            32.6   \n",
       "27807                   4.1                    52.0            36.7   \n",
       "27808                   4.1                    52.0            52.0   \n",
       "27809                   4.1                    43.9            16.2   \n",
       "\n",
       "       между программами  начало прогрммы бин    month season  \n",
       "0                    0.0                  1.0  January   зима  \n",
       "1                    0.0                  1.0  January   зима  \n",
       "2                    0.0                  1.0  January   зима  \n",
       "3                    0.0                  1.0  January   зима  \n",
       "4                    0.0                  1.0  January   зима  \n",
       "...                  ...                  ...      ...    ...  \n",
       "27805                0.0                  0.0  October  осень  \n",
       "27806                0.0                  0.0  October  осень  \n",
       "27807                0.0                  0.0  October  осень  \n",
       "27808                0.0                  0.0  October  осень  \n",
       "27809                0.0                  0.0  October  осень  \n",
       "\n",
       "[27810 rows x 16 columns]"
      ]
     },
     "execution_count": 229,
     "metadata": {},
     "output_type": "execute_result"
    }
   ],
   "source": [
    "df"
   ]
  },
  {
   "cell_type": "code",
   "execution_count": 248,
   "id": "fef6c6b6-28dc-46e4-82d3-b05d6efc9e66",
   "metadata": {},
   "outputs": [],
   "source": [
    "df = df.drop(columns='emb')"
   ]
  },
  {
   "cell_type": "code",
   "execution_count": 258,
   "id": "ff56e97c-5dfa-4fe8-b02a-1b65c2aac610",
   "metadata": {},
   "outputs": [],
   "source": [
    "from sklearn.model_selection import train_test_split\n",
    "\n",
    "X = df.drop(columns=target_cols)\n",
    "Y = df[target_cols]\n",
    "\n",
    "X_train, X_test, y_train, y_test = train_test_split(X, Y, test_size=0.2, random_state=42)"
   ]
  },
  {
   "cell_type": "code",
   "execution_count": 250,
   "id": "63cf7eed-e9d2-45e7-b971-9d7d45b5e5ef",
   "metadata": {},
   "outputs": [
    {
     "data": {
      "text/html": [
       "<style>#sk-container-id-7 {color: black;}#sk-container-id-7 pre{padding: 0;}#sk-container-id-7 div.sk-toggleable {background-color: white;}#sk-container-id-7 label.sk-toggleable__label {cursor: pointer;display: block;width: 100%;margin-bottom: 0;padding: 0.3em;box-sizing: border-box;text-align: center;}#sk-container-id-7 label.sk-toggleable__label-arrow:before {content: \"▸\";float: left;margin-right: 0.25em;color: #696969;}#sk-container-id-7 label.sk-toggleable__label-arrow:hover:before {color: black;}#sk-container-id-7 div.sk-estimator:hover label.sk-toggleable__label-arrow:before {color: black;}#sk-container-id-7 div.sk-toggleable__content {max-height: 0;max-width: 0;overflow: hidden;text-align: left;background-color: #f0f8ff;}#sk-container-id-7 div.sk-toggleable__content pre {margin: 0.2em;color: black;border-radius: 0.25em;background-color: #f0f8ff;}#sk-container-id-7 input.sk-toggleable__control:checked~div.sk-toggleable__content {max-height: 200px;max-width: 100%;overflow: auto;}#sk-container-id-7 input.sk-toggleable__control:checked~label.sk-toggleable__label-arrow:before {content: \"▾\";}#sk-container-id-7 div.sk-estimator input.sk-toggleable__control:checked~label.sk-toggleable__label {background-color: #d4ebff;}#sk-container-id-7 div.sk-label input.sk-toggleable__control:checked~label.sk-toggleable__label {background-color: #d4ebff;}#sk-container-id-7 input.sk-hidden--visually {border: 0;clip: rect(1px 1px 1px 1px);clip: rect(1px, 1px, 1px, 1px);height: 1px;margin: -1px;overflow: hidden;padding: 0;position: absolute;width: 1px;}#sk-container-id-7 div.sk-estimator {font-family: monospace;background-color: #f0f8ff;border: 1px dotted black;border-radius: 0.25em;box-sizing: border-box;margin-bottom: 0.5em;}#sk-container-id-7 div.sk-estimator:hover {background-color: #d4ebff;}#sk-container-id-7 div.sk-parallel-item::after {content: \"\";width: 100%;border-bottom: 1px solid gray;flex-grow: 1;}#sk-container-id-7 div.sk-label:hover label.sk-toggleable__label {background-color: #d4ebff;}#sk-container-id-7 div.sk-serial::before {content: \"\";position: absolute;border-left: 1px solid gray;box-sizing: border-box;top: 0;bottom: 0;left: 50%;z-index: 0;}#sk-container-id-7 div.sk-serial {display: flex;flex-direction: column;align-items: center;background-color: white;padding-right: 0.2em;padding-left: 0.2em;position: relative;}#sk-container-id-7 div.sk-item {position: relative;z-index: 1;}#sk-container-id-7 div.sk-parallel {display: flex;align-items: stretch;justify-content: center;background-color: white;position: relative;}#sk-container-id-7 div.sk-item::before, #sk-container-id-7 div.sk-parallel-item::before {content: \"\";position: absolute;border-left: 1px solid gray;box-sizing: border-box;top: 0;bottom: 0;left: 50%;z-index: -1;}#sk-container-id-7 div.sk-parallel-item {display: flex;flex-direction: column;z-index: 1;position: relative;background-color: white;}#sk-container-id-7 div.sk-parallel-item:first-child::after {align-self: flex-end;width: 50%;}#sk-container-id-7 div.sk-parallel-item:last-child::after {align-self: flex-start;width: 50%;}#sk-container-id-7 div.sk-parallel-item:only-child::after {width: 0;}#sk-container-id-7 div.sk-dashed-wrapped {border: 1px dashed gray;margin: 0 0.4em 0.5em 0.4em;box-sizing: border-box;padding-bottom: 0.4em;background-color: white;}#sk-container-id-7 div.sk-label label {font-family: monospace;font-weight: bold;display: inline-block;line-height: 1.2em;}#sk-container-id-7 div.sk-label-container {text-align: center;}#sk-container-id-7 div.sk-container {/* jupyter's `normalize.less` sets `[hidden] { display: none; }` but bootstrap.min.css set `[hidden] { display: none !important; }` so we also need the `!important` here to be able to override the default hidden behavior on the sphinx rendered scikit-learn.org. See: https://github.com/scikit-learn/scikit-learn/issues/21755 */display: inline-block !important;position: relative;}#sk-container-id-7 div.sk-text-repr-fallback {display: none;}</style><div id=\"sk-container-id-7\" class=\"sk-top-container\"><div class=\"sk-text-repr-fallback\"><pre>XGBRegressor(base_score=None, booster=None, callbacks=None,\n",
       "             colsample_bylevel=None, colsample_bynode=None,\n",
       "             colsample_bytree=None, early_stopping_rounds=None,\n",
       "             enable_categorical=False, eval_metric=None, feature_types=None,\n",
       "             gamma=None, gpu_id=None, grow_policy=None, importance_type=None,\n",
       "             interaction_constraints=None, learning_rate=None, max_bin=None,\n",
       "             max_cat_threshold=None, max_cat_to_onehot=None,\n",
       "             max_delta_step=None, max_depth=None, max_leaves=None,\n",
       "             min_child_weight=None, missing=nan, monotone_constraints=None,\n",
       "             n_estimators=500, n_jobs=None, num_parallel_tree=None,\n",
       "             predictor=None, random_state=None, ...)</pre><b>In a Jupyter environment, please rerun this cell to show the HTML representation or trust the notebook. <br />On GitHub, the HTML representation is unable to render, please try loading this page with nbviewer.org.</b></div><div class=\"sk-container\" hidden><div class=\"sk-item\"><div class=\"sk-estimator sk-toggleable\"><input class=\"sk-toggleable__control sk-hidden--visually\" id=\"sk-estimator-id-7\" type=\"checkbox\" checked><label for=\"sk-estimator-id-7\" class=\"sk-toggleable__label sk-toggleable__label-arrow\">XGBRegressor</label><div class=\"sk-toggleable__content\"><pre>XGBRegressor(base_score=None, booster=None, callbacks=None,\n",
       "             colsample_bylevel=None, colsample_bynode=None,\n",
       "             colsample_bytree=None, early_stopping_rounds=None,\n",
       "             enable_categorical=False, eval_metric=None, feature_types=None,\n",
       "             gamma=None, gpu_id=None, grow_policy=None, importance_type=None,\n",
       "             interaction_constraints=None, learning_rate=None, max_bin=None,\n",
       "             max_cat_threshold=None, max_cat_to_onehot=None,\n",
       "             max_delta_step=None, max_depth=None, max_leaves=None,\n",
       "             min_child_weight=None, missing=nan, monotone_constraints=None,\n",
       "             n_estimators=500, n_jobs=None, num_parallel_tree=None,\n",
       "             predictor=None, random_state=None, ...)</pre></div></div></div></div></div>"
      ],
      "text/plain": [
       "XGBRegressor(base_score=None, booster=None, callbacks=None,\n",
       "             colsample_bylevel=None, colsample_bynode=None,\n",
       "             colsample_bytree=None, early_stopping_rounds=None,\n",
       "             enable_categorical=False, eval_metric=None, feature_types=None,\n",
       "             gamma=None, gpu_id=None, grow_policy=None, importance_type=None,\n",
       "             interaction_constraints=None, learning_rate=None, max_bin=None,\n",
       "             max_cat_threshold=None, max_cat_to_onehot=None,\n",
       "             max_delta_step=None, max_depth=None, max_leaves=None,\n",
       "             min_child_weight=None, missing=nan, monotone_constraints=None,\n",
       "             n_estimators=500, n_jobs=None, num_parallel_tree=None,\n",
       "             predictor=None, random_state=None, ...)"
      ]
     },
     "execution_count": 250,
     "metadata": {},
     "output_type": "execute_result"
    }
   ],
   "source": [
    "from xgboost import XGBRegressor\n",
    "model = XGBRegressor(n_estimators = 500, tree_method='gpu_hist')\n",
    "model.fit(X_train.values, y_train.values)"
   ]
  },
  {
   "cell_type": "code",
   "execution_count": 251,
   "id": "82fc4e44-9ab2-4bcd-bff9-5e92fde69fb6",
   "metadata": {},
   "outputs": [
    {
     "data": {
      "text/plain": [
       "0.17116879735538032"
      ]
     },
     "execution_count": 251,
     "metadata": {},
     "output_type": "execute_result"
    }
   ],
   "source": [
    "from sklearn.metrics import mean_absolute_percentage_error\n",
    "predictions = model.predict(X_test.values)\n",
    "mean_absolute_percentage_error(y_test, predictions)"
   ]
  },
  {
   "cell_type": "markdown",
   "id": "e09d1cf9-b494-438e-b152-faebea3e746a",
   "metadata": {},
   "source": [
    "скор:\n",
    "\n",
    "с эмбендингами: 0.1745903989630204\n",
    "\n",
    "без ембендингов: 0.17121545961409496"
   ]
  },
  {
   "cell_type": "code",
   "execution_count": null,
   "id": "b7e0da71-48b5-4759-8cb4-7ba1a65c2171",
   "metadata": {},
   "outputs": [],
   "source": [
    "!pip install pytorch_tabnet"
   ]
  },
  {
   "cell_type": "code",
   "execution_count": 256,
   "id": "b3f965b6-d343-4966-a0b9-2a176edcc96e",
   "metadata": {
    "scrolled": true
   },
   "outputs": [
    {
     "name": "stderr",
     "output_type": "stream",
     "text": [
      "C:\\Users\\Свята читер777\\AppData\\Local\\Programs\\Python\\Python310\\lib\\site-packages\\pytorch_tabnet\\abstract_model.py:82: UserWarning: Device used : cpu\n",
      "  warnings.warn(f\"Device used : {self.device}\")\n"
     ]
    },
    {
     "name": "stdout",
     "output_type": "stream",
     "text": [
      "epoch 0  | loss: 0.87819 | train_rmse: 0.4925  | test_rmse: 0.4878  |  0:00:02s\n",
      "epoch 1  | loss: 0.21008 | train_rmse: 0.49815 | test_rmse: 0.49802 |  0:00:04s\n",
      "epoch 2  | loss: 0.12862 | train_rmse: 0.36955 | test_rmse: 0.37309 |  0:00:07s\n",
      "epoch 3  | loss: 0.09432 | train_rmse: 0.34377 | test_rmse: 0.34475 |  0:00:09s\n",
      "epoch 4  | loss: 0.08986 | train_rmse: 0.32414 | test_rmse: 0.32375 |  0:00:11s\n",
      "epoch 5  | loss: 0.08303 | train_rmse: 0.29552 | test_rmse: 0.28905 |  0:00:14s\n",
      "epoch 6  | loss: 0.07786 | train_rmse: 0.2991  | test_rmse: 0.29431 |  0:00:16s\n",
      "epoch 7  | loss: 0.0756  | train_rmse: 0.3046  | test_rmse: 0.30129 |  0:00:18s\n",
      "epoch 8  | loss: 0.07346 | train_rmse: 0.29993 | test_rmse: 0.2958  |  0:00:21s\n",
      "epoch 9  | loss: 0.07276 | train_rmse: 0.28243 | test_rmse: 0.27853 |  0:00:23s\n",
      "epoch 10 | loss: 0.07525 | train_rmse: 0.3201  | test_rmse: 0.31916 |  0:00:25s\n",
      "epoch 11 | loss: 0.06867 | train_rmse: 0.30216 | test_rmse: 0.3002  |  0:00:27s\n",
      "epoch 12 | loss: 0.06975 | train_rmse: 0.30518 | test_rmse: 0.30267 |  0:00:30s\n",
      "epoch 13 | loss: 0.07109 | train_rmse: 0.28206 | test_rmse: 0.27782 |  0:00:32s\n",
      "epoch 14 | loss: 0.06724 | train_rmse: 0.30934 | test_rmse: 0.30602 |  0:00:34s\n",
      "epoch 15 | loss: 0.06595 | train_rmse: 0.31606 | test_rmse: 0.31408 |  0:00:36s\n",
      "epoch 16 | loss: 0.06638 | train_rmse: 0.30519 | test_rmse: 0.29775 |  0:00:39s\n",
      "epoch 17 | loss: 0.06343 | train_rmse: 0.29179 | test_rmse: 0.28732 |  0:00:41s\n",
      "epoch 18 | loss: 0.06271 | train_rmse: 0.30297 | test_rmse: 0.29988 |  0:00:43s\n",
      "epoch 19 | loss: 0.06383 | train_rmse: 0.29008 | test_rmse: 0.28638 |  0:00:45s\n",
      "epoch 20 | loss: 0.06209 | train_rmse: 0.27714 | test_rmse: 0.27078 |  0:00:48s\n",
      "epoch 21 | loss: 0.06435 | train_rmse: 0.2753  | test_rmse: 0.2702  |  0:00:50s\n",
      "epoch 22 | loss: 0.06199 | train_rmse: 0.28184 | test_rmse: 0.27516 |  0:00:53s\n",
      "epoch 23 | loss: 0.06257 | train_rmse: 0.26041 | test_rmse: 0.25454 |  0:00:55s\n",
      "epoch 24 | loss: 0.0609  | train_rmse: 0.23938 | test_rmse: 0.23401 |  0:00:57s\n",
      "epoch 25 | loss: 0.05972 | train_rmse: 0.28691 | test_rmse: 0.28101 |  0:00:59s\n",
      "epoch 26 | loss: 0.0593  | train_rmse: 0.29255 | test_rmse: 0.28638 |  0:01:02s\n",
      "epoch 27 | loss: 0.05855 | train_rmse: 0.27912 | test_rmse: 0.27346 |  0:01:04s\n",
      "epoch 28 | loss: 0.05777 | train_rmse: 0.25715 | test_rmse: 0.25245 |  0:01:06s\n",
      "epoch 29 | loss: 0.05812 | train_rmse: 0.26159 | test_rmse: 0.25617 |  0:01:09s\n",
      "epoch 30 | loss: 0.05616 | train_rmse: 0.24473 | test_rmse: 0.24117 |  0:01:11s\n",
      "epoch 31 | loss: 0.05655 | train_rmse: 0.2473  | test_rmse: 0.24286 |  0:01:13s\n",
      "epoch 32 | loss: 0.05603 | train_rmse: 0.23412 | test_rmse: 0.22855 |  0:01:15s\n",
      "epoch 33 | loss: 0.05409 | train_rmse: 0.23829 | test_rmse: 0.23446 |  0:01:18s\n",
      "epoch 34 | loss: 0.05403 | train_rmse: 0.25915 | test_rmse: 0.25459 |  0:01:20s\n",
      "epoch 35 | loss: 0.054   | train_rmse: 0.22778 | test_rmse: 0.22459 |  0:01:22s\n",
      "epoch 36 | loss: 0.05341 | train_rmse: 0.22992 | test_rmse: 0.2266  |  0:01:24s\n",
      "epoch 37 | loss: 0.06141 | train_rmse: 0.2777  | test_rmse: 0.27268 |  0:01:27s\n",
      "epoch 38 | loss: 0.05992 | train_rmse: 0.26341 | test_rmse: 0.26082 |  0:01:29s\n",
      "epoch 39 | loss: 0.05937 | train_rmse: 0.24282 | test_rmse: 0.24103 |  0:01:32s\n",
      "epoch 40 | loss: 0.05626 | train_rmse: 0.23035 | test_rmse: 0.22725 |  0:01:34s\n",
      "epoch 41 | loss: 0.05435 | train_rmse: 0.23212 | test_rmse: 0.22907 |  0:01:36s\n",
      "epoch 42 | loss: 0.05313 | train_rmse: 0.23061 | test_rmse: 0.22668 |  0:01:39s\n",
      "epoch 43 | loss: 0.05305 | train_rmse: 0.22825 | test_rmse: 0.2252  |  0:01:41s\n",
      "epoch 44 | loss: 0.05248 | train_rmse: 0.2294  | test_rmse: 0.22685 |  0:01:43s\n",
      "epoch 45 | loss: 0.05323 | train_rmse: 0.22868 | test_rmse: 0.22597 |  0:01:46s\n",
      "epoch 46 | loss: 0.05247 | train_rmse: 0.23236 | test_rmse: 0.22952 |  0:01:48s\n",
      "epoch 47 | loss: 0.05315 | train_rmse: 0.24907 | test_rmse: 0.24588 |  0:01:50s\n",
      "epoch 48 | loss: 0.05388 | train_rmse: 0.24875 | test_rmse: 0.24569 |  0:01:53s\n",
      "epoch 49 | loss: 0.05479 | train_rmse: 0.22471 | test_rmse: 0.22155 |  0:01:55s\n",
      "epoch 50 | loss: 0.05211 | train_rmse: 0.22366 | test_rmse: 0.2202  |  0:01:58s\n",
      "epoch 51 | loss: 0.05234 | train_rmse: 0.27751 | test_rmse: 0.27383 |  0:02:00s\n",
      "epoch 52 | loss: 0.05174 | train_rmse: 0.22818 | test_rmse: 0.22642 |  0:02:03s\n",
      "epoch 53 | loss: 0.05142 | train_rmse: 0.24639 | test_rmse: 0.24337 |  0:02:05s\n",
      "epoch 54 | loss: 0.05129 | train_rmse: 0.22394 | test_rmse: 0.22119 |  0:02:08s\n",
      "epoch 55 | loss: 0.05109 | train_rmse: 0.24209 | test_rmse: 0.2393  |  0:02:10s\n",
      "epoch 56 | loss: 0.0514  | train_rmse: 0.27114 | test_rmse: 0.2681  |  0:02:13s\n",
      "epoch 57 | loss: 0.05084 | train_rmse: 0.22174 | test_rmse: 0.22074 |  0:02:15s\n",
      "epoch 58 | loss: 0.05335 | train_rmse: 0.24103 | test_rmse: 0.24065 |  0:02:17s\n",
      "epoch 59 | loss: 0.0523  | train_rmse: 0.26646 | test_rmse: 0.26333 |  0:02:20s\n",
      "epoch 60 | loss: 0.05108 | train_rmse: 0.2236  | test_rmse: 0.2234  |  0:02:22s\n",
      "epoch 61 | loss: 0.05164 | train_rmse: 0.2233  | test_rmse: 0.22219 |  0:02:24s\n",
      "epoch 62 | loss: 0.05242 | train_rmse: 0.22613 | test_rmse: 0.22675 |  0:02:27s\n",
      "epoch 63 | loss: 0.05056 | train_rmse: 0.22259 | test_rmse: 0.22086 |  0:02:29s\n",
      "epoch 64 | loss: 0.05177 | train_rmse: 0.27882 | test_rmse: 0.27629 |  0:02:31s\n",
      "epoch 65 | loss: 0.05019 | train_rmse: 0.22008 | test_rmse: 0.2203  |  0:02:34s\n",
      "epoch 66 | loss: 0.051   | train_rmse: 0.22405 | test_rmse: 0.22378 |  0:02:36s\n",
      "epoch 67 | loss: 0.05063 | train_rmse: 0.22074 | test_rmse: 0.21962 |  0:02:38s\n",
      "epoch 68 | loss: 0.051   | train_rmse: 0.22707 | test_rmse: 0.22489 |  0:02:41s\n",
      "epoch 69 | loss: 0.05035 | train_rmse: 0.23956 | test_rmse: 0.23862 |  0:02:43s\n",
      "epoch 70 | loss: 0.04969 | train_rmse: 0.22016 | test_rmse: 0.22078 |  0:02:46s\n",
      "epoch 71 | loss: 0.05052 | train_rmse: 0.21892 | test_rmse: 0.21846 |  0:02:48s\n",
      "epoch 72 | loss: 0.04998 | train_rmse: 0.21816 | test_rmse: 0.21889 |  0:02:51s\n",
      "epoch 73 | loss: 0.0496  | train_rmse: 0.24246 | test_rmse: 0.24047 |  0:02:53s\n",
      "epoch 74 | loss: 0.0505  | train_rmse: 0.23405 | test_rmse: 0.23424 |  0:02:55s\n",
      "epoch 75 | loss: 0.05036 | train_rmse: 0.22713 | test_rmse: 0.22741 |  0:02:58s\n",
      "epoch 76 | loss: 0.05133 | train_rmse: 0.27945 | test_rmse: 0.27635 |  0:03:00s\n",
      "epoch 77 | loss: 0.05137 | train_rmse: 0.27083 | test_rmse: 0.2692  |  0:03:02s\n",
      "epoch 78 | loss: 0.04996 | train_rmse: 0.26302 | test_rmse: 0.26091 |  0:03:05s\n",
      "epoch 79 | loss: 0.05015 | train_rmse: 0.22275 | test_rmse: 0.22243 |  0:03:07s\n",
      "epoch 80 | loss: 0.04977 | train_rmse: 0.21791 | test_rmse: 0.21753 |  0:03:10s\n",
      "epoch 81 | loss: 0.04973 | train_rmse: 0.22037 | test_rmse: 0.22041 |  0:03:12s\n",
      "epoch 82 | loss: 0.04925 | train_rmse: 0.25419 | test_rmse: 0.25221 |  0:03:14s\n",
      "epoch 83 | loss: 0.04936 | train_rmse: 0.22272 | test_rmse: 0.22263 |  0:03:17s\n",
      "epoch 84 | loss: 0.04949 | train_rmse: 0.22335 | test_rmse: 0.22528 |  0:03:19s\n",
      "epoch 85 | loss: 0.04909 | train_rmse: 0.22264 | test_rmse: 0.22223 |  0:03:22s\n",
      "epoch 86 | loss: 0.04894 | train_rmse: 0.21564 | test_rmse: 0.21587 |  0:03:24s\n",
      "epoch 87 | loss: 0.04968 | train_rmse: 0.26767 | test_rmse: 0.26561 |  0:03:27s\n",
      "epoch 88 | loss: 0.05018 | train_rmse: 0.2588  | test_rmse: 0.2573  |  0:03:29s\n",
      "epoch 89 | loss: 0.04925 | train_rmse: 0.21545 | test_rmse: 0.21602 |  0:03:32s\n",
      "epoch 90 | loss: 0.04861 | train_rmse: 0.23715 | test_rmse: 0.23659 |  0:03:34s\n",
      "epoch 91 | loss: 0.04858 | train_rmse: 0.2203  | test_rmse: 0.22063 |  0:03:36s\n",
      "epoch 92 | loss: 0.04841 | train_rmse: 0.2174  | test_rmse: 0.21908 |  0:03:39s\n",
      "epoch 93 | loss: 0.04854 | train_rmse: 0.23256 | test_rmse: 0.23331 |  0:03:41s\n",
      "epoch 94 | loss: 0.04784 | train_rmse: 0.23337 | test_rmse: 0.23391 |  0:03:44s\n",
      "epoch 95 | loss: 0.04794 | train_rmse: 0.21371 | test_rmse: 0.21493 |  0:03:46s\n",
      "epoch 96 | loss: 0.0479  | train_rmse: 0.22145 | test_rmse: 0.22315 |  0:03:49s\n",
      "epoch 97 | loss: 0.04895 | train_rmse: 0.21473 | test_rmse: 0.2163  |  0:03:51s\n",
      "epoch 98 | loss: 0.04825 | train_rmse: 0.21405 | test_rmse: 0.2151  |  0:03:53s\n",
      "epoch 99 | loss: 0.04795 | train_rmse: 0.2138  | test_rmse: 0.21552 |  0:03:55s\n",
      "epoch 100| loss: 0.0482  | train_rmse: 0.21435 | test_rmse: 0.21535 |  0:03:58s\n",
      "epoch 101| loss: 0.04809 | train_rmse: 0.21361 | test_rmse: 0.21537 |  0:04:00s\n",
      "epoch 102| loss: 0.04769 | train_rmse: 0.22453 | test_rmse: 0.2251  |  0:04:02s\n",
      "epoch 103| loss: 0.04764 | train_rmse: 0.21491 | test_rmse: 0.21585 |  0:04:04s\n",
      "epoch 104| loss: 0.04805 | train_rmse: 0.21223 | test_rmse: 0.21313 |  0:04:07s\n",
      "epoch 105| loss: 0.04765 | train_rmse: 0.23228 | test_rmse: 0.23373 |  0:04:09s\n",
      "epoch 106| loss: 0.04881 | train_rmse: 0.21262 | test_rmse: 0.21485 |  0:04:11s\n",
      "epoch 107| loss: 0.04749 | train_rmse: 0.21256 | test_rmse: 0.21506 |  0:04:14s\n",
      "epoch 108| loss: 0.04736 | train_rmse: 0.22522 | test_rmse: 0.22588 |  0:04:16s\n",
      "epoch 109| loss: 0.04753 | train_rmse: 0.2191  | test_rmse: 0.22025 |  0:04:18s\n",
      "epoch 110| loss: 0.04764 | train_rmse: 0.26384 | test_rmse: 0.26224 |  0:04:20s\n",
      "epoch 111| loss: 0.04708 | train_rmse: 0.26777 | test_rmse: 0.26609 |  0:04:23s\n",
      "epoch 112| loss: 0.04741 | train_rmse: 0.21407 | test_rmse: 0.21609 |  0:04:25s\n",
      "epoch 113| loss: 0.04725 | train_rmse: 0.21646 | test_rmse: 0.21781 |  0:04:27s\n",
      "epoch 114| loss: 0.0471  | train_rmse: 0.21469 | test_rmse: 0.21774 |  0:04:29s\n",
      "epoch 115| loss: 0.04747 | train_rmse: 0.2124  | test_rmse: 0.2142  |  0:04:32s\n",
      "epoch 116| loss: 0.04698 | train_rmse: 0.22149 | test_rmse: 0.22475 |  0:04:34s\n",
      "epoch 117| loss: 0.04702 | train_rmse: 0.21502 | test_rmse: 0.2167  |  0:04:36s\n",
      "epoch 118| loss: 0.04674 | train_rmse: 0.22174 | test_rmse: 0.22416 |  0:04:38s\n",
      "epoch 119| loss: 0.04683 | train_rmse: 0.21152 | test_rmse: 0.21317 |  0:04:41s\n",
      "epoch 120| loss: 0.04703 | train_rmse: 0.21142 | test_rmse: 0.21396 |  0:04:43s\n",
      "epoch 121| loss: 0.04679 | train_rmse: 0.21153 | test_rmse: 0.2143  |  0:04:45s\n",
      "epoch 122| loss: 0.04638 | train_rmse: 0.21115 | test_rmse: 0.21432 |  0:04:47s\n",
      "epoch 123| loss: 0.04688 | train_rmse: 0.26562 | test_rmse: 0.26461 |  0:04:49s\n",
      "epoch 124| loss: 0.04711 | train_rmse: 0.21167 | test_rmse: 0.21359 |  0:04:52s\n",
      "epoch 125| loss: 0.04751 | train_rmse: 0.21132 | test_rmse: 0.21412 |  0:04:54s\n",
      "epoch 126| loss: 0.04636 | train_rmse: 0.22794 | test_rmse: 0.23038 |  0:04:57s\n",
      "epoch 127| loss: 0.04661 | train_rmse: 0.2129  | test_rmse: 0.21496 |  0:04:59s\n",
      "epoch 128| loss: 0.04724 | train_rmse: 0.21465 | test_rmse: 0.21747 |  0:05:01s\n",
      "epoch 129| loss: 0.04605 | train_rmse: 0.21672 | test_rmse: 0.21885 |  0:05:04s\n",
      "epoch 130| loss: 0.04585 | train_rmse: 0.2113  | test_rmse: 0.21414 |  0:05:06s\n",
      "epoch 131| loss: 0.04601 | train_rmse: 0.21308 | test_rmse: 0.21465 |  0:05:09s\n",
      "epoch 132| loss: 0.04621 | train_rmse: 0.20941 | test_rmse: 0.21212 |  0:05:11s\n",
      "epoch 133| loss: 0.04665 | train_rmse: 0.21229 | test_rmse: 0.21407 |  0:05:13s\n",
      "epoch 134| loss: 0.04654 | train_rmse: 0.21258 | test_rmse: 0.21475 |  0:05:16s\n",
      "epoch 135| loss: 0.0467  | train_rmse: 0.26037 | test_rmse: 0.25991 |  0:05:18s\n",
      "epoch 136| loss: 0.04636 | train_rmse: 0.21255 | test_rmse: 0.21471 |  0:05:20s\n",
      "epoch 137| loss: 0.04636 | train_rmse: 0.21075 | test_rmse: 0.21298 |  0:05:23s\n",
      "epoch 138| loss: 0.04595 | train_rmse: 0.212   | test_rmse: 0.21492 |  0:05:25s\n",
      "epoch 139| loss: 0.04589 | train_rmse: 0.21079 | test_rmse: 0.21398 |  0:05:27s\n",
      "epoch 140| loss: 0.04616 | train_rmse: 0.21124 | test_rmse: 0.21374 |  0:05:30s\n",
      "epoch 141| loss: 0.04566 | train_rmse: 0.21252 | test_rmse: 0.21541 |  0:05:32s\n",
      "epoch 142| loss: 0.04562 | train_rmse: 0.2116  | test_rmse: 0.21532 |  0:05:34s\n",
      "epoch 143| loss: 0.04617 | train_rmse: 0.21055 | test_rmse: 0.21346 |  0:05:37s\n",
      "epoch 144| loss: 0.04625 | train_rmse: 0.20883 | test_rmse: 0.21231 |  0:05:39s\n",
      "epoch 145| loss: 0.0458  | train_rmse: 0.23746 | test_rmse: 0.24044 |  0:05:41s\n",
      "epoch 146| loss: 0.04747 | train_rmse: 0.2285  | test_rmse: 0.2304  |  0:05:44s\n",
      "epoch 147| loss: 0.04871 | train_rmse: 0.22648 | test_rmse: 0.22872 |  0:05:46s\n",
      "epoch 148| loss: 0.04613 | train_rmse: 0.21046 | test_rmse: 0.21356 |  0:05:48s\n",
      "epoch 149| loss: 0.04576 | train_rmse: 0.21411 | test_rmse: 0.21654 |  0:05:50s\n",
      "epoch 150| loss: 0.04621 | train_rmse: 0.21379 | test_rmse: 0.21705 |  0:05:53s\n",
      "epoch 151| loss: 0.04654 | train_rmse: 0.2105  | test_rmse: 0.2143  |  0:05:55s\n",
      "epoch 152| loss: 0.04555 | train_rmse: 0.2152  | test_rmse: 0.2175  |  0:05:57s\n",
      "epoch 153| loss: 0.04524 | train_rmse: 0.20847 | test_rmse: 0.21169 |  0:06:00s\n",
      "epoch 154| loss: 0.04546 | train_rmse: 0.21065 | test_rmse: 0.21311 |  0:06:02s\n",
      "epoch 155| loss: 0.04538 | train_rmse: 0.20872 | test_rmse: 0.21167 |  0:06:04s\n",
      "epoch 156| loss: 0.04539 | train_rmse: 0.2077  | test_rmse: 0.21114 |  0:06:07s\n",
      "epoch 157| loss: 0.04509 | train_rmse: 0.20729 | test_rmse: 0.20967 |  0:06:09s\n",
      "epoch 158| loss: 0.04514 | train_rmse: 0.20886 | test_rmse: 0.21249 |  0:06:11s\n",
      "epoch 159| loss: 0.04571 | train_rmse: 0.20777 | test_rmse: 0.2101  |  0:06:14s\n",
      "epoch 160| loss: 0.04499 | train_rmse: 0.20754 | test_rmse: 0.21171 |  0:06:16s\n",
      "epoch 161| loss: 0.04475 | train_rmse: 0.21806 | test_rmse: 0.21999 |  0:06:18s\n",
      "epoch 162| loss: 0.04503 | train_rmse: 0.23549 | test_rmse: 0.23636 |  0:06:21s\n",
      "epoch 163| loss: 0.04549 | train_rmse: 0.20912 | test_rmse: 0.21102 |  0:06:23s\n",
      "epoch 164| loss: 0.04562 | train_rmse: 0.2072  | test_rmse: 0.21132 |  0:06:25s\n",
      "epoch 165| loss: 0.04536 | train_rmse: 0.2089  | test_rmse: 0.21192 |  0:06:28s\n",
      "epoch 166| loss: 0.04608 | train_rmse: 0.2084  | test_rmse: 0.2109  |  0:06:30s\n",
      "epoch 167| loss: 0.04487 | train_rmse: 0.20942 | test_rmse: 0.21263 |  0:06:32s\n",
      "epoch 168| loss: 0.04482 | train_rmse: 0.20768 | test_rmse: 0.21082 |  0:06:35s\n",
      "epoch 169| loss: 0.04467 | train_rmse: 0.2067  | test_rmse: 0.20994 |  0:06:37s\n",
      "epoch 170| loss: 0.0452  | train_rmse: 0.21684 | test_rmse: 0.22041 |  0:06:39s\n",
      "epoch 171| loss: 0.04444 | train_rmse: 0.20601 | test_rmse: 0.2106  |  0:06:41s\n",
      "epoch 172| loss: 0.04462 | train_rmse: 0.20945 | test_rmse: 0.2119  |  0:06:44s\n",
      "epoch 173| loss: 0.04482 | train_rmse: 0.20661 | test_rmse: 0.21    |  0:06:46s\n",
      "epoch 174| loss: 0.04437 | train_rmse: 0.20571 | test_rmse: 0.20884 |  0:06:49s\n",
      "epoch 175| loss: 0.04452 | train_rmse: 0.2105  | test_rmse: 0.2134  |  0:06:51s\n",
      "epoch 176| loss: 0.04441 | train_rmse: 0.20567 | test_rmse: 0.20859 |  0:06:53s\n",
      "epoch 177| loss: 0.04474 | train_rmse: 0.20642 | test_rmse: 0.2107  |  0:06:56s\n",
      "epoch 178| loss: 0.04473 | train_rmse: 0.20569 | test_rmse: 0.20907 |  0:06:58s\n",
      "epoch 179| loss: 0.04461 | train_rmse: 0.20588 | test_rmse: 0.21055 |  0:07:00s\n",
      "epoch 180| loss: 0.04436 | train_rmse: 0.20861 | test_rmse: 0.21222 |  0:07:03s\n",
      "epoch 181| loss: 0.04491 | train_rmse: 0.20625 | test_rmse: 0.20963 |  0:07:05s\n",
      "epoch 182| loss: 0.04438 | train_rmse: 0.2067  | test_rmse: 0.20987 |  0:07:07s\n",
      "epoch 183| loss: 0.04459 | train_rmse: 0.20725 | test_rmse: 0.21104 |  0:07:10s\n",
      "epoch 184| loss: 0.04459 | train_rmse: 0.20561 | test_rmse: 0.20852 |  0:07:12s\n",
      "epoch 185| loss: 0.04417 | train_rmse: 0.20515 | test_rmse: 0.20996 |  0:07:14s\n",
      "epoch 186| loss: 0.04447 | train_rmse: 0.2065  | test_rmse: 0.21029 |  0:07:17s\n",
      "epoch 187| loss: 0.04488 | train_rmse: 0.20968 | test_rmse: 0.2135  |  0:07:19s\n",
      "epoch 188| loss: 0.0446  | train_rmse: 0.20537 | test_rmse: 0.20971 |  0:07:21s\n",
      "epoch 189| loss: 0.04455 | train_rmse: 0.20981 | test_rmse: 0.2135  |  0:07:24s\n",
      "epoch 190| loss: 0.04477 | train_rmse: 0.21344 | test_rmse: 0.21658 |  0:07:26s\n",
      "epoch 191| loss: 0.04467 | train_rmse: 0.21113 | test_rmse: 0.21302 |  0:07:28s\n",
      "epoch 192| loss: 0.04453 | train_rmse: 0.20645 | test_rmse: 0.20996 |  0:07:31s\n",
      "epoch 193| loss: 0.04432 | train_rmse: 0.21608 | test_rmse: 0.22083 |  0:07:33s\n",
      "epoch 194| loss: 0.04422 | train_rmse: 0.20661 | test_rmse: 0.21116 |  0:07:35s\n",
      "epoch 195| loss: 0.04449 | train_rmse: 0.20996 | test_rmse: 0.21341 |  0:07:38s\n",
      "epoch 196| loss: 0.04379 | train_rmse: 0.2058  | test_rmse: 0.21055 |  0:07:40s\n",
      "epoch 197| loss: 0.04409 | train_rmse: 0.20454 | test_rmse: 0.2092  |  0:07:42s\n",
      "epoch 198| loss: 0.04419 | train_rmse: 0.20537 | test_rmse: 0.20902 |  0:07:44s\n",
      "epoch 199| loss: 0.04412 | train_rmse: 0.20528 | test_rmse: 0.20952 |  0:07:47s\n",
      "Stop training because you reached max_epochs = 200 with best_epoch = 184 and best_test_rmse = 0.20852\n"
     ]
    },
    {
     "name": "stderr",
     "output_type": "stream",
     "text": [
      "C:\\Users\\Свята читер777\\AppData\\Local\\Programs\\Python\\Python310\\lib\\site-packages\\pytorch_tabnet\\callbacks.py:172: UserWarning: Best weights from best epoch are automatically used!\n",
      "  warnings.warn(wrn_msg)\n"
     ]
    }
   ],
   "source": [
    "from pytorch_tabnet.tab_model import TabNetRegressor\n",
    "import torch\n",
    "import numpy as np\n",
    "\n",
    "# преобразуем данные в массивы NumPy\n",
    "X_train_np = X_train.values\n",
    "y_train_np = y_train.values\n",
    "X_test_np = X_test.values\n",
    "y_test_np = y_test.values\n",
    "\n",
    "# define the model\n",
    "tabnet_model = TabNetRegressor(optimizer_fn=torch.optim.Adam,\n",
    "                      scheduler_params={\"step_size\":10, \n",
    "                                        \"gamma\":0.9},\n",
    "                      scheduler_fn=torch.optim.lr_scheduler.StepLR,\n",
    "                     )\n",
    "\n",
    "# fit the model \n",
    "tabnet_model.fit(\n",
    "    X_train_np, y_train_np,\n",
    "    eval_set=[(X_train_np, y_train_np), (X_test_np, y_test_np)],\n",
    "    eval_name=['train', 'test'],\n",
    "    eval_metric=['rmse'],\n",
    "    max_epochs=200, patience=60,\n",
    "    batch_size=512, virtual_batch_size=512,\n",
    "    num_workers=0,\n",
    "    drop_last=False\n",
    ")\n"
   ]
  },
  {
   "cell_type": "code",
   "execution_count": 257,
   "id": "1205af1a-e3a4-417e-8fe9-5387fe87647e",
   "metadata": {},
   "outputs": [
    {
     "data": {
      "text/plain": [
       "0.22325552365527224"
      ]
     },
     "execution_count": 257,
     "metadata": {},
     "output_type": "execute_result"
    }
   ],
   "source": [
    "from sklearn.metrics import mean_absolute_percentage_error\n",
    "predictions = tabnet_model.predict(X_test_np)\n",
    "mean_absolute_percentage_error(y_test, predictions)"
   ]
  },
  {
   "cell_type": "code",
   "execution_count": null,
   "id": "ab0f2839-ff07-485a-b7aa-4ced480c74ad",
   "metadata": {},
   "outputs": [],
   "source": [
    "# from catboost import CatBoostRegressor\n",
    "# import lightgbm as lgb\n",
    "# from xgboost import XGBRegressor\n",
    "# from pytorch_tabnet.tab_model import TabNetRegressor\n",
    "# import numpy as np\n",
    "\n",
    "# # Создание и обучение отдельных моделей\n",
    "# cat_model = CatBoostRegressor(iterations=500, verbose=100)\n",
    "# lgb_model = lgb.LGBMRegressor(n_estimators=500)\n",
    "# xgb_model = XGBRegressor(n_estimators=500, tree_method='gpu_hist')\n",
    "\n",
    "# cat_model.fit(X_train_np, y_train_np)\n",
    "# lgb_model.fit(X_train_np, y_train_np)\n",
    "# xgb_model.fit(X_train_np, y_train_np)\n",
    "\n",
    "# Получение прогнозов от каждой модели\n",
    "cat_preds = cat_model.predict(X_test_np)\n",
    "lgb_preds = lgb_model.predict(X_test_np)\n",
    "xgb_preds = xgb_model.predict(X_test_np)\n",
    "tabnet_preds = tabnet_model.predict(X_test_np)"
   ]
  },
  {
   "cell_type": "code",
   "execution_count": 292,
   "id": "c2980a4e-8140-43b3-8ba9-ee1347390a88",
   "metadata": {},
   "outputs": [],
   "source": [
    "ensemble_preds = lgb_preds + tabnet_preds"
   ]
  },
  {
   "cell_type": "code",
   "execution_count": 312,
   "id": "1309ba4e-690b-4f28-99d1-26983c941955",
   "metadata": {},
   "outputs": [],
   "source": [
    "ensemble_preds = np.zeros(len(lgb_preds))\n",
    "for i in range(len(lgb_preds)):\n",
    "    ensemble_preds[i] = (lgb_preds[i] + cat_preds[i] + xgb_preds[i] + tabnet_preds[i]) / 4\n"
   ]
  },
  {
   "cell_type": "code",
   "execution_count": 313,
   "id": "b57c905f-8107-4e3c-a5aa-50cb536a90a3",
   "metadata": {},
   "outputs": [
    {
     "data": {
      "text/plain": [
       "array([1.21324074, 0.72248435, 0.95899642, ..., 1.15378594, 1.00915158,\n",
       "       1.52091467])"
      ]
     },
     "execution_count": 313,
     "metadata": {},
     "output_type": "execute_result"
    }
   ],
   "source": [
    "ensemble_preds"
   ]
  },
  {
   "cell_type": "code",
   "execution_count": 317,
   "id": "b7b90cf8-7750-409a-a710-a146b945bc21",
   "metadata": {},
   "outputs": [
    {
     "data": {
      "text/plain": [
       "0.22325552365527224"
      ]
     },
     "execution_count": 317,
     "metadata": {},
     "output_type": "execute_result"
    }
   ],
   "source": [
    "from sklearn.metrics import mean_absolute_percentage_error\n",
    "# predictions = voit_model.predict(X_test.values)\n",
    "mean_absolute_percentage_error(y_test_np, tabnet_preds)"
   ]
  },
  {
   "cell_type": "markdown",
   "id": "e9e7ecb8-9481-4296-9d6c-098a1c234a65",
   "metadata": {
    "jp-MarkdownHeadingCollapsed": true
   },
   "source": [
    "# embendingi"
   ]
  },
  {
   "cell_type": "code",
   "execution_count": null,
   "id": "7add8332-1749-4a24-8389-67d9e60d5835",
   "metadata": {},
   "outputs": [],
   "source": [
    "import nltk\n",
    "from nltk.tokenize import word_tokenize\n",
    "\n",
    "sentence = '. '.join(df['emb'])\n",
    "\n",
    "# Токенизация слов\n",
    "tokens = word_tokenize(sentence, language='english')\n",
    "\n",
    "# Вывод токенов\n",
    "print(tokens)"
   ]
  },
  {
   "cell_type": "code",
   "execution_count": 130,
   "id": "d86199cf-d7b3-4e08-9402-29a0e8d44adc",
   "metadata": {},
   "outputs": [],
   "source": [
    "from gensim.models import Word2Vec\n",
    "# Обучение модели Word2Vec\n",
    "model = Word2Vec(tokens, min_count=1)"
   ]
  },
  {
   "cell_type": "code",
   "execution_count": 131,
   "id": "b7c6bc9b-6716-4bc9-830c-35a3429826fd",
   "metadata": {},
   "outputs": [],
   "source": [
    "text_data = df['emb']\n",
    "sentence_embeddings = []\n",
    "for sentence in text_data:\n",
    "    words = sentence.split()\n",
    "    sentence_vectors = []\n",
    "    for word in words:\n",
    "        if word in model.wv:\n",
    "            sentence_vectors.append(model.wv[word])\n",
    "        else:\n",
    "            sentence_vectors.append(np.array([0] * 100))\n",
    "    if sentence_vectors:\n",
    "        sentence_embeddings.append(sum(sentence_vectors) / len(sentence_vectors))"
   ]
  },
  {
   "cell_type": "code",
   "execution_count": 253,
   "id": "9b17b84e-2f1b-49ce-96ad-df31507ad7ee",
   "metadata": {},
   "outputs": [],
   "source": [
    "data = pd.DataFrame(sentence_embeddings, columns = [ f\"emb_cols_{i}\" for i in range(100)])\n",
    "data['index'] = np.arange(len(data))\n",
    "df['index'] = np.arange(len(df))\n",
    "# df = df.drop(columns='emb')"
   ]
  },
  {
   "cell_type": "code",
   "execution_count": 254,
   "id": "fe82e5ef-e8c6-4abf-a6ca-6ac124b8e0c3",
   "metadata": {},
   "outputs": [],
   "source": [
    "from sklearn.model_selection import train_test_split\n",
    "\n",
    "X = df.drop(columns=target_cols)\n",
    "Y = df[target_cols]\n",
    "\n",
    "X = X.merge(data, on='index')\n",
    "X = X.drop(columns = 'index')\n",
    "\n",
    "X_train, X_test, y_train, y_test = train_test_split(X, Y, random_state=42)"
   ]
  },
  {
   "cell_type": "markdown",
   "id": "88cfea98-d362-4a20-b4d3-3fd082de4bf4",
   "metadata": {
    "jp-MarkdownHeadingCollapsed": true
   },
   "source": [
    "# нейронка для регрессии "
   ]
  },
  {
   "cell_type": "code",
   "execution_count": 157,
   "id": "3feac79b-439a-4f79-943b-9ad520432f15",
   "metadata": {},
   "outputs": [],
   "source": [
    "from sklearn.preprocessing import StandardScaler\n",
    "from tensorflow.keras.models import Model\n",
    "from tensorflow.keras.layers import Input, Dense, BatchNormalization, Activation, Add, GlobalAveragePooling1D, Reshape"
   ]
  },
  {
   "cell_type": "code",
   "execution_count": 159,
   "id": "74753af8-01b1-470c-8275-d2c95adddb6e",
   "metadata": {},
   "outputs": [],
   "source": [
    "import tensorflow as tf\n",
    "from tensorflow.keras.models import Sequential\n",
    "from tensorflow.keras.layers import Dense, Dropout"
   ]
  },
  {
   "cell_type": "code",
   "execution_count": 161,
   "id": "6662a14b-0c19-4d70-8ef8-232339eaf5e3",
   "metadata": {},
   "outputs": [],
   "source": [
    "import torch\n",
    "import torch.nn as nn\n",
    "import torch.optim as optim"
   ]
  },
  {
   "cell_type": "code",
   "execution_count": 162,
   "id": "2c1a27e6-5c90-454b-9e31-a77d0a973c59",
   "metadata": {},
   "outputs": [],
   "source": [
    "# Нормализация данных\n",
    "scaler = StandardScaler()\n",
    "X_train = scaler.fit_transform(X_train)\n",
    "X_test = scaler.transform(X_test)\n",
    "\n",
    "# Преобразование данных в тензоры PyTorch\n",
    "X_train, X_test = torch.tensor(X_train).float(), torch.tensor(X_test).float()\n",
    "y_train, y_test = torch.tensor(y_train.values).float(), torch.tensor(y_test.values).float()"
   ]
  },
  {
   "cell_type": "code",
   "execution_count": null,
   "id": "2987089e-94c1-405a-a1d0-036b8148fc79",
   "metadata": {},
   "outputs": [],
   "source": [
    "# scaler = StandardScaler()\n",
    "# X_train = scaler.fit_transform(X_train)\n",
    "# X_val = scaler.transform(X_val)"
   ]
  },
  {
   "cell_type": "code",
   "execution_count": 163,
   "id": "21c09162-0d1d-465a-88b8-de136e87952e",
   "metadata": {},
   "outputs": [],
   "source": [
    "import tensorflow as tf\n",
    "from tensorflow.keras.models import Sequential\n",
    "from tensorflow.keras.layers import Dense, Dropout\n",
    "\n",
    "# Загрузка данных в формате TensorFlow Dataset\n",
    "train_data = tf.data.Dataset.from_tensor_slices((X_train, y_train))\n",
    "train_data = train_data.shuffle(len(X_train)).batch(100)\n",
    "\n",
    "val_data = tf.data.Dataset.from_tensor_slices((X_test, y_test))\n",
    "val_data = val_data.batch(100)\n"
   ]
  },
  {
   "cell_type": "code",
   "execution_count": 164,
   "id": "f66354f5-9c1d-4f09-88f3-c00cbf97aad5",
   "metadata": {},
   "outputs": [],
   "source": [
    "import tensorflow as tf\n",
    "from tensorflow.keras import layers, models\n",
    "\n",
    "model = models.Sequential([\n",
    "    layers.Dense(128, activation='relu', input_shape=(115,)),  # Полносвязный слой с 128 нейронами и функцией активации ReLU\n",
    "    layers.Dropout(0.5),  # Слой регуляризации для предотвращения переобучения\n",
    "    layers.Dense(64, activation='relu'),  # Еще один полносвязный слой с 64 нейронами и функцией активации ReLU\n",
    "    layers.BatchNormalization(),  # Слой нормализации для стабилизации обучения\n",
    "    layers.Dense(32, activation='relu'),  # Еще один полносвязный слой с 32 нейронами и функцией активации ReLU\n",
    "    layers.Dense(1)  # Выходной слой с одним нейроном (для регрессии) без функции активации\n",
    "])"
   ]
  },
  {
   "cell_type": "code",
   "execution_count": 173,
   "id": "979bdc63-9be6-4eaa-9d64-4e0300c94cc8",
   "metadata": {},
   "outputs": [
    {
     "name": "stdout",
     "output_type": "stream",
     "text": [
      "Epoch 1/10\n",
      "209/209 [==============================] - 1s 2ms/step - loss: 0.1951\n",
      "Epoch 2/10\n",
      "209/209 [==============================] - 0s 2ms/step - loss: 0.1950\n",
      "Epoch 3/10\n",
      "209/209 [==============================] - 0s 2ms/step - loss: 0.1950\n",
      "Epoch 4/10\n",
      "209/209 [==============================] - 0s 2ms/step - loss: 0.1950\n",
      "Epoch 5/10\n",
      "209/209 [==============================] - 0s 2ms/step - loss: 0.1951\n",
      "Epoch 6/10\n",
      "209/209 [==============================] - 0s 2ms/step - loss: 0.1951\n",
      "Epoch 7/10\n",
      "209/209 [==============================] - 0s 2ms/step - loss: 0.1951\n",
      "Epoch 8/10\n",
      "209/209 [==============================] - 0s 2ms/step - loss: 0.1955\n",
      "Epoch 9/10\n",
      "209/209 [==============================] - 0s 2ms/step - loss: 0.1949\n",
      "Epoch 10/10\n",
      "209/209 [==============================] - 0s 2ms/step - loss: 0.1950\n"
     ]
    },
    {
     "data": {
      "text/plain": [
       "<keras.src.callbacks.History at 0x1da1c0bb5b0>"
      ]
     },
     "execution_count": 173,
     "metadata": {},
     "output_type": "execute_result"
    }
   ],
   "source": [
    "model.compile(optimizer='adam', loss='mean_squared_error')  # Используем оптимизатор Adam и функцию потерь среднеквадратичной ошибки\n",
    "model.fit(train_data, epochs=10, batch_size=100)  # Обучаем модель на данных в течение 10 эпох с размером пакета 32"
   ]
  },
  {
   "cell_type": "code",
   "execution_count": 174,
   "id": "e5dddb34-b4fa-4593-b78f-8bb5e64e4ab9",
   "metadata": {},
   "outputs": [
    {
     "name": "stdout",
     "output_type": "stream",
     "text": [
      "70/70 [==============================] - 0s 912us/step\n"
     ]
    },
    {
     "data": {
      "text/plain": [
       "0.7084517493835688"
      ]
     },
     "execution_count": 174,
     "metadata": {},
     "output_type": "execute_result"
    }
   ],
   "source": [
    "from sklearn.metrics import mean_absolute_percentage_error\n",
    "predictions = model.predict(val_data)\n",
    "mean_absolute_percentage_error(y_val, predictions)"
   ]
  },
  {
   "cell_type": "code",
   "execution_count": null,
   "id": "f38b4b96-5f9a-4988-b46e-60096f119424",
   "metadata": {},
   "outputs": [],
   "source": []
  },
  {
   "cell_type": "code",
   "execution_count": null,
   "id": "effbb471-9e2d-4240-9948-d6ce6c40ac81",
   "metadata": {},
   "outputs": [],
   "source": []
  }
 ],
 "metadata": {
  "kernelspec": {
   "display_name": "Python 3 (ipykernel)",
   "language": "python",
   "name": "python3"
  },
  "language_info": {
   "codemirror_mode": {
    "name": "ipython",
    "version": 3
   },
   "file_extension": ".py",
   "mimetype": "text/x-python",
   "name": "python",
   "nbconvert_exporter": "python",
   "pygments_lexer": "ipython3",
   "version": "3.10.2"
  }
 },
 "nbformat": 4,
 "nbformat_minor": 5
}
